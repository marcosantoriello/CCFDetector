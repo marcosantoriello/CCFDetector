{
 "cells": [
  {
   "cell_type": "markdown",
   "source": [
    "# CCFDetector: Using ML against Credit Card Frauds"
   ],
   "metadata": {
    "collapsed": false
   },
   "id": "5fc81a036995f96d"
  },
  {
   "cell_type": "markdown",
   "source": [
    "L'obiettivo di questo progetto, realizzato per l'esame di Fondamenti di Intelligenza Artificiale presso l'Univeristà degli Studi di Salerno, è quello di realizzare un sistema di Machine Learning per l'individuazione di transazioni fraudolente relative ai pagamenti elettronici, cioè tutte quelle transazioni effettuate da carte di credito non in possesso dell'autore della transazione.\n",
    "## Setup del progetto e Data Understanding\n",
    "---\n",
    "### Inizio ad importare le librerie necessarie"
   ],
   "metadata": {
    "collapsed": false
   },
   "id": "7e85cea1cb42bbab"
  },
  {
   "cell_type": "code",
   "execution_count": 14,
   "outputs": [],
   "source": [
    "# import the necessary packages \n",
    "import numpy as np \n",
    "import pandas as pd \n",
    "import matplotlib.pyplot as plt \n",
    "import seaborn as sns \n",
    "from matplotlib import gridspec"
   ],
   "metadata": {
    "collapsed": false,
    "ExecuteTime": {
     "end_time": "2023-12-10T14:33:43.763814400Z",
     "start_time": "2023-12-10T14:33:43.751695500Z"
    }
   },
   "id": "795fea0d05d9790"
  },
  {
   "cell_type": "markdown",
   "source": [
    "### Carico il dataset"
   ],
   "metadata": {
    "collapsed": false
   },
   "id": "8cbf2ab23c49666c"
  },
  {
   "cell_type": "code",
   "execution_count": 15,
   "outputs": [
    {
     "data": {
      "text/plain": "            Time         V1         V2        V3        V4        V5  \\\n0            0.0  -1.359807  -0.072781  2.536347  1.378155 -0.338321   \n1            0.0   1.191857   0.266151  0.166480  0.448154  0.060018   \n2            1.0  -1.358354  -1.340163  1.773209  0.379780 -0.503198   \n3            1.0  -0.966272  -0.185226  1.792993 -0.863291 -0.010309   \n4            2.0  -1.158233   0.877737  1.548718  0.403034 -0.407193   \n...          ...        ...        ...       ...       ...       ...   \n284802  172786.0 -11.881118  10.071785 -9.834783 -2.066656 -5.364473   \n284803  172787.0  -0.732789  -0.055080  2.035030 -0.738589  0.868229   \n284804  172788.0   1.919565  -0.301254 -3.249640 -0.557828  2.630515   \n284805  172788.0  -0.240440   0.530483  0.702510  0.689799 -0.377961   \n284806  172792.0  -0.533413  -0.189733  0.703337 -0.506271 -0.012546   \n\n              V6        V7        V8        V9  ...       V21       V22  \\\n0       0.462388  0.239599  0.098698  0.363787  ... -0.018307  0.277838   \n1      -0.082361 -0.078803  0.085102 -0.255425  ... -0.225775 -0.638672   \n2       1.800499  0.791461  0.247676 -1.514654  ...  0.247998  0.771679   \n3       1.247203  0.237609  0.377436 -1.387024  ... -0.108300  0.005274   \n4       0.095921  0.592941 -0.270533  0.817739  ... -0.009431  0.798278   \n...          ...       ...       ...       ...  ...       ...       ...   \n284802 -2.606837 -4.918215  7.305334  1.914428  ...  0.213454  0.111864   \n284803  1.058415  0.024330  0.294869  0.584800  ...  0.214205  0.924384   \n284804  3.031260 -0.296827  0.708417  0.432454  ...  0.232045  0.578229   \n284805  0.623708 -0.686180  0.679145  0.392087  ...  0.265245  0.800049   \n284806 -0.649617  1.577006 -0.414650  0.486180  ...  0.261057  0.643078   \n\n             V23       V24       V25       V26       V27       V28  Amount  \\\n0      -0.110474  0.066928  0.128539 -0.189115  0.133558 -0.021053  149.62   \n1       0.101288 -0.339846  0.167170  0.125895 -0.008983  0.014724    2.69   \n2       0.909412 -0.689281 -0.327642 -0.139097 -0.055353 -0.059752  378.66   \n3      -0.190321 -1.175575  0.647376 -0.221929  0.062723  0.061458  123.50   \n4      -0.137458  0.141267 -0.206010  0.502292  0.219422  0.215153   69.99   \n...          ...       ...       ...       ...       ...       ...     ...   \n284802  1.014480 -0.509348  1.436807  0.250034  0.943651  0.823731    0.77   \n284803  0.012463 -1.016226 -0.606624 -0.395255  0.068472 -0.053527   24.79   \n284804 -0.037501  0.640134  0.265745 -0.087371  0.004455 -0.026561   67.88   \n284805 -0.163298  0.123205 -0.569159  0.546668  0.108821  0.104533   10.00   \n284806  0.376777  0.008797 -0.473649 -0.818267 -0.002415  0.013649  217.00   \n\n        Class  \n0           0  \n1           0  \n2           0  \n3           0  \n4           0  \n...       ...  \n284802      0  \n284803      0  \n284804      0  \n284805      0  \n284806      0  \n\n[284807 rows x 31 columns]",
      "text/html": "<div>\n<style scoped>\n    .dataframe tbody tr th:only-of-type {\n        vertical-align: middle;\n    }\n\n    .dataframe tbody tr th {\n        vertical-align: top;\n    }\n\n    .dataframe thead th {\n        text-align: right;\n    }\n</style>\n<table border=\"1\" class=\"dataframe\">\n  <thead>\n    <tr style=\"text-align: right;\">\n      <th></th>\n      <th>Time</th>\n      <th>V1</th>\n      <th>V2</th>\n      <th>V3</th>\n      <th>V4</th>\n      <th>V5</th>\n      <th>V6</th>\n      <th>V7</th>\n      <th>V8</th>\n      <th>V9</th>\n      <th>...</th>\n      <th>V21</th>\n      <th>V22</th>\n      <th>V23</th>\n      <th>V24</th>\n      <th>V25</th>\n      <th>V26</th>\n      <th>V27</th>\n      <th>V28</th>\n      <th>Amount</th>\n      <th>Class</th>\n    </tr>\n  </thead>\n  <tbody>\n    <tr>\n      <th>0</th>\n      <td>0.0</td>\n      <td>-1.359807</td>\n      <td>-0.072781</td>\n      <td>2.536347</td>\n      <td>1.378155</td>\n      <td>-0.338321</td>\n      <td>0.462388</td>\n      <td>0.239599</td>\n      <td>0.098698</td>\n      <td>0.363787</td>\n      <td>...</td>\n      <td>-0.018307</td>\n      <td>0.277838</td>\n      <td>-0.110474</td>\n      <td>0.066928</td>\n      <td>0.128539</td>\n      <td>-0.189115</td>\n      <td>0.133558</td>\n      <td>-0.021053</td>\n      <td>149.62</td>\n      <td>0</td>\n    </tr>\n    <tr>\n      <th>1</th>\n      <td>0.0</td>\n      <td>1.191857</td>\n      <td>0.266151</td>\n      <td>0.166480</td>\n      <td>0.448154</td>\n      <td>0.060018</td>\n      <td>-0.082361</td>\n      <td>-0.078803</td>\n      <td>0.085102</td>\n      <td>-0.255425</td>\n      <td>...</td>\n      <td>-0.225775</td>\n      <td>-0.638672</td>\n      <td>0.101288</td>\n      <td>-0.339846</td>\n      <td>0.167170</td>\n      <td>0.125895</td>\n      <td>-0.008983</td>\n      <td>0.014724</td>\n      <td>2.69</td>\n      <td>0</td>\n    </tr>\n    <tr>\n      <th>2</th>\n      <td>1.0</td>\n      <td>-1.358354</td>\n      <td>-1.340163</td>\n      <td>1.773209</td>\n      <td>0.379780</td>\n      <td>-0.503198</td>\n      <td>1.800499</td>\n      <td>0.791461</td>\n      <td>0.247676</td>\n      <td>-1.514654</td>\n      <td>...</td>\n      <td>0.247998</td>\n      <td>0.771679</td>\n      <td>0.909412</td>\n      <td>-0.689281</td>\n      <td>-0.327642</td>\n      <td>-0.139097</td>\n      <td>-0.055353</td>\n      <td>-0.059752</td>\n      <td>378.66</td>\n      <td>0</td>\n    </tr>\n    <tr>\n      <th>3</th>\n      <td>1.0</td>\n      <td>-0.966272</td>\n      <td>-0.185226</td>\n      <td>1.792993</td>\n      <td>-0.863291</td>\n      <td>-0.010309</td>\n      <td>1.247203</td>\n      <td>0.237609</td>\n      <td>0.377436</td>\n      <td>-1.387024</td>\n      <td>...</td>\n      <td>-0.108300</td>\n      <td>0.005274</td>\n      <td>-0.190321</td>\n      <td>-1.175575</td>\n      <td>0.647376</td>\n      <td>-0.221929</td>\n      <td>0.062723</td>\n      <td>0.061458</td>\n      <td>123.50</td>\n      <td>0</td>\n    </tr>\n    <tr>\n      <th>4</th>\n      <td>2.0</td>\n      <td>-1.158233</td>\n      <td>0.877737</td>\n      <td>1.548718</td>\n      <td>0.403034</td>\n      <td>-0.407193</td>\n      <td>0.095921</td>\n      <td>0.592941</td>\n      <td>-0.270533</td>\n      <td>0.817739</td>\n      <td>...</td>\n      <td>-0.009431</td>\n      <td>0.798278</td>\n      <td>-0.137458</td>\n      <td>0.141267</td>\n      <td>-0.206010</td>\n      <td>0.502292</td>\n      <td>0.219422</td>\n      <td>0.215153</td>\n      <td>69.99</td>\n      <td>0</td>\n    </tr>\n    <tr>\n      <th>...</th>\n      <td>...</td>\n      <td>...</td>\n      <td>...</td>\n      <td>...</td>\n      <td>...</td>\n      <td>...</td>\n      <td>...</td>\n      <td>...</td>\n      <td>...</td>\n      <td>...</td>\n      <td>...</td>\n      <td>...</td>\n      <td>...</td>\n      <td>...</td>\n      <td>...</td>\n      <td>...</td>\n      <td>...</td>\n      <td>...</td>\n      <td>...</td>\n      <td>...</td>\n      <td>...</td>\n    </tr>\n    <tr>\n      <th>284802</th>\n      <td>172786.0</td>\n      <td>-11.881118</td>\n      <td>10.071785</td>\n      <td>-9.834783</td>\n      <td>-2.066656</td>\n      <td>-5.364473</td>\n      <td>-2.606837</td>\n      <td>-4.918215</td>\n      <td>7.305334</td>\n      <td>1.914428</td>\n      <td>...</td>\n      <td>0.213454</td>\n      <td>0.111864</td>\n      <td>1.014480</td>\n      <td>-0.509348</td>\n      <td>1.436807</td>\n      <td>0.250034</td>\n      <td>0.943651</td>\n      <td>0.823731</td>\n      <td>0.77</td>\n      <td>0</td>\n    </tr>\n    <tr>\n      <th>284803</th>\n      <td>172787.0</td>\n      <td>-0.732789</td>\n      <td>-0.055080</td>\n      <td>2.035030</td>\n      <td>-0.738589</td>\n      <td>0.868229</td>\n      <td>1.058415</td>\n      <td>0.024330</td>\n      <td>0.294869</td>\n      <td>0.584800</td>\n      <td>...</td>\n      <td>0.214205</td>\n      <td>0.924384</td>\n      <td>0.012463</td>\n      <td>-1.016226</td>\n      <td>-0.606624</td>\n      <td>-0.395255</td>\n      <td>0.068472</td>\n      <td>-0.053527</td>\n      <td>24.79</td>\n      <td>0</td>\n    </tr>\n    <tr>\n      <th>284804</th>\n      <td>172788.0</td>\n      <td>1.919565</td>\n      <td>-0.301254</td>\n      <td>-3.249640</td>\n      <td>-0.557828</td>\n      <td>2.630515</td>\n      <td>3.031260</td>\n      <td>-0.296827</td>\n      <td>0.708417</td>\n      <td>0.432454</td>\n      <td>...</td>\n      <td>0.232045</td>\n      <td>0.578229</td>\n      <td>-0.037501</td>\n      <td>0.640134</td>\n      <td>0.265745</td>\n      <td>-0.087371</td>\n      <td>0.004455</td>\n      <td>-0.026561</td>\n      <td>67.88</td>\n      <td>0</td>\n    </tr>\n    <tr>\n      <th>284805</th>\n      <td>172788.0</td>\n      <td>-0.240440</td>\n      <td>0.530483</td>\n      <td>0.702510</td>\n      <td>0.689799</td>\n      <td>-0.377961</td>\n      <td>0.623708</td>\n      <td>-0.686180</td>\n      <td>0.679145</td>\n      <td>0.392087</td>\n      <td>...</td>\n      <td>0.265245</td>\n      <td>0.800049</td>\n      <td>-0.163298</td>\n      <td>0.123205</td>\n      <td>-0.569159</td>\n      <td>0.546668</td>\n      <td>0.108821</td>\n      <td>0.104533</td>\n      <td>10.00</td>\n      <td>0</td>\n    </tr>\n    <tr>\n      <th>284806</th>\n      <td>172792.0</td>\n      <td>-0.533413</td>\n      <td>-0.189733</td>\n      <td>0.703337</td>\n      <td>-0.506271</td>\n      <td>-0.012546</td>\n      <td>-0.649617</td>\n      <td>1.577006</td>\n      <td>-0.414650</td>\n      <td>0.486180</td>\n      <td>...</td>\n      <td>0.261057</td>\n      <td>0.643078</td>\n      <td>0.376777</td>\n      <td>0.008797</td>\n      <td>-0.473649</td>\n      <td>-0.818267</td>\n      <td>-0.002415</td>\n      <td>0.013649</td>\n      <td>217.00</td>\n      <td>0</td>\n    </tr>\n  </tbody>\n</table>\n<p>284807 rows × 31 columns</p>\n</div>"
     },
     "execution_count": 15,
     "metadata": {},
     "output_type": "execute_result"
    }
   ],
   "source": [
    "data = pd.read_csv('creditcard.csv')\n",
    "data"
   ],
   "metadata": {
    "collapsed": false,
    "ExecuteTime": {
     "end_time": "2023-12-10T14:33:46.057369Z",
     "start_time": "2023-12-10T14:33:44.681971300Z"
    }
   },
   "id": "9d5ed1dbd9ae7b06"
  },
  {
   "cell_type": "markdown",
   "source": [
    "### Descrizione del dataset\n",
    "Il dataset utilizzato, contiene le transazioni effettuate da carte di credito in due giorni del settembre del 2013. Molte delle features (da *V1* a *V28*) sono riservate, ovviamente, per motivi di privacy. Le uniche features che non sono state nascoste sono *Time*, che rappresenta il tempo, in secondi, tra la transazione corrispondente e la prima transazione del dataset, *Amount*, che rappresenta l'ammontare, appunto, della transazione, e, infine, *Class*, che assume valore 1 se la transazione è stata segnalata come fraudolenta, 0 altrimenti. \n",
    "Vado, ora, ad analizzare il dataset per verificare se sia *unbalanced*, come mi aspetto, oppure no."
   ],
   "metadata": {
    "collapsed": false
   },
   "id": "4794cce816c5bf76"
  },
  {
   "cell_type": "code",
   "execution_count": 16,
   "outputs": [
    {
     "name": "stdout",
     "output_type": "stream",
     "text": [
      "0.0017304750013189597\n",
      "Fraud cases: 492\n",
      "Valid cases: 284315\n"
     ]
    }
   ],
   "source": [
    "# Checking n. of frauds in the dataset\n",
    "fraud = data[data['Class'] == 1]\n",
    "valid = data[data['Class'] == 0]\n",
    "ratio = len(fraud)/float(len(valid))\n",
    "print(ratio)\n",
    "print('Fraud cases: {}'.format(len(data[data['Class'] == 1])))\n",
    "print('Valid cases: {}'.format(len(data[data['Class'] == 0])))"
   ],
   "metadata": {
    "collapsed": false,
    "ExecuteTime": {
     "end_time": "2023-12-10T14:33:46.201524100Z",
     "start_time": "2023-12-10T14:33:46.057369Z"
    }
   },
   "id": "f4641f1b2abc0b79"
  },
  {
   "cell_type": "markdown",
   "source": [
    "Come possiamo notare, il dataset è altamente *unbalanced*; infatti, solo lo 0.17% delle transazioni risulta essere etichettato come fraudolento.\n",
    "A questo punto decido di procedere dapprima con il dataset non bilanciato, per poi bilanciarlo e confrontare i vari modelli."
   ],
   "metadata": {
    "collapsed": false
   },
   "id": "a38b3fb45c6b83d2"
  },
  {
   "cell_type": "markdown",
   "source": [
    "Inizio analizzando i dettagli relativi alla quantità di denaro utilizzata nelle transazioni fraudolente e nelle transazioni lecite."
   ],
   "metadata": {
    "collapsed": false
   },
   "id": "577cc208072708f9"
  },
  {
   "cell_type": "code",
   "execution_count": 17,
   "outputs": [
    {
     "name": "stdout",
     "output_type": "stream",
     "text": [
      "Dettagli di Amount nelle transazioni fraudolente\n"
     ]
    },
    {
     "data": {
      "text/plain": "count     492.000000\nmean      122.211321\nstd       256.683288\nmin         0.000000\n25%         1.000000\n50%         9.250000\n75%       105.890000\nmax      2125.870000\nName: Amount, dtype: float64"
     },
     "execution_count": 17,
     "metadata": {},
     "output_type": "execute_result"
    }
   ],
   "source": [
    "print(\"Dettagli di Amount nelle transazioni fraudolente\")\n",
    "fraud.Amount.describe()"
   ],
   "metadata": {
    "collapsed": false,
    "ExecuteTime": {
     "end_time": "2023-12-10T14:33:47.373073500Z",
     "start_time": "2023-12-10T14:33:47.345169900Z"
    }
   },
   "id": "ef469dce8cd95fce"
  },
  {
   "cell_type": "code",
   "execution_count": 18,
   "outputs": [
    {
     "name": "stdout",
     "output_type": "stream",
     "text": [
      "Dettagli di Amount nelle transazioni non fraudolente\n"
     ]
    },
    {
     "data": {
      "text/plain": "count    284315.000000\nmean         88.291022\nstd         250.105092\nmin           0.000000\n25%           5.650000\n50%          22.000000\n75%          77.050000\nmax       25691.160000\nName: Amount, dtype: float64"
     },
     "execution_count": 18,
     "metadata": {},
     "output_type": "execute_result"
    }
   ],
   "source": [
    "print(\"Dettagli di Amount nelle transazioni non fraudolente\")\n",
    "valid.Amount.describe()"
   ],
   "metadata": {
    "collapsed": false,
    "ExecuteTime": {
     "end_time": "2023-12-10T14:33:47.766205200Z",
     "start_time": "2023-12-10T14:33:47.741399300Z"
    }
   },
   "id": "bfd57148234e4ec4"
  },
  {
   "cell_type": "markdown",
   "source": [
    "Come si può ben notare, le cifre relative alle transazioni fraudolente sono più alte, con una media di 122.2 per le transazioni fraudolente, contro gli 88.2 delle transazioni non fraudolente.\n",
    "A questo punto, per avere un'idea di come le varie caratteristiche sono correlate tra loro e di quali risultano più rilevanti per la predizione, utilizzo una *matrice di correlazione*."
   ],
   "metadata": {
    "collapsed": false
   },
   "id": "416e577136692f0f"
  },
  {
   "cell_type": "code",
   "execution_count": 19,
   "outputs": [
    {
     "data": {
      "text/plain": "<Figure size 1200x900 with 2 Axes>",
      "image/png": "[encoded data removed]"
     },
     "metadata": {},
     "output_type": "display_data"
    }
   ],
   "source": [
    "# Plotting a Correlation Matrix\n",
    "correlation_matrix = data.corr()\n",
    "fig = plt.figure(figsize = (12, 9))\n",
    "sns.heatmap(correlation_matrix, vmax = .8, square = True, cmap = 'YlGnBu')\n",
    "plt.show()"
   ],
   "metadata": {
    "collapsed": false,
    "ExecuteTime": {
     "end_time": "2023-12-10T14:33:50.383647500Z",
     "start_time": "2023-12-10T14:33:49.461733800Z"
    }
   },
   "id": "afadbf436cc16dd8"
  },
  {
   "cell_type": "markdown",
   "source": [
    "Questa matrice di correlazione mostra come le caratteristiche V7 e V20 hanno una qualche correlazione con l'ammontare di denaro relativo ad una transazione (*Amount*), mentre altre caratteristiche, ad esempio V2, V3 e V5 sono negativamente correlate con questa caratteristica.\n",
    "\n",
    "## Data Preparation\n",
    "---\n",
    "A questo punto, creo un nuovo DataFrame *X*, che contiene le variabili indipendenti (*features*), andando a rimuovere la colonna *Class* dal DataFrame originale e una Serie *Y*, che contiene la variabile dipendente (*target*), nonché la colonna *Class*.  "
   ],
   "metadata": {
    "collapsed": false
   },
   "id": "a0d6847556bcd73f"
  },
  {
   "cell_type": "code",
   "execution_count": 20,
   "outputs": [
    {
     "name": "stdout",
     "output_type": "stream",
     "text": [
      "(284807, 30)\n",
      "(284807,)\n"
     ]
    }
   ],
   "source": [
    "# Separating dependent variable Y from the indipendent variables\n",
    "X = data.drop(['Class'], axis=1) # indipendent variables\n",
    "Y = data['Class'] # target\n",
    "\n",
    "print(X.shape)\n",
    "print(Y.shape)\n",
    "\n",
    "# Converting X and Y into numpy arrays\n",
    "xData = X.values\n",
    "yData = Y.values\n",
    "# print(\"Printing the arrays...\")\n",
    "# print(xData)\n",
    "# print(yData)"
   ],
   "metadata": {
    "collapsed": false,
    "ExecuteTime": {
     "end_time": "2023-12-10T14:33:50.893157Z",
     "start_time": "2023-12-10T14:33:50.859214Z"
    }
   },
   "id": "62b13ff0c37a55ce"
  },
  {
   "cell_type": "markdown",
   "source": [
    "Affinché il modello risulti affidabile, è necessario che il dataset con cui viene addestrato sia diverso dal dataset con cui verrà validato.\n",
    "Dunque, è necessario dividere il dataset in un *Training Set* e un *Test set*.\n",
    "Efettuerò una singola divisione del dataset, in particolare utilizzerò il 20% dei dati come Test set."
   ],
   "metadata": {
    "collapsed": false
   },
   "id": "3dafa78fb80e370"
  },
  {
   "cell_type": "code",
   "execution_count": 21,
   "outputs": [],
   "source": [
    "# Splitting data into training set and test set using Scikit-learn\n",
    "from sklearn.model_selection import train_test_split\n",
    "X_train, X_test, y_train, y_test = train_test_split(\n",
    "    xData, yData, test_size=0.2, random_state=42)"
   ],
   "metadata": {
    "collapsed": false,
    "ExecuteTime": {
     "end_time": "2023-12-10T14:33:52.467744Z",
     "start_time": "2023-12-10T14:33:52.363884800Z"
    }
   },
   "id": "832cc099c40d593"
  },
  {
   "cell_type": "markdown",
   "source": [
    "## Implementazione e valutazione del classificatore Naive Bayes\n",
    "---\n",
    "### Costruzione del modello"
   ],
   "metadata": {
    "collapsed": false
   },
   "id": "928ba66b1f747139"
  },
  {
   "cell_type": "code",
   "execution_count": 22,
   "outputs": [
    {
     "name": "stdout",
     "output_type": "stream",
     "text": [
      "[1 0 0 ... 0 0 0]\n"
     ]
    }
   ],
   "source": [
    "from sklearn.naive_bayes import GaussianNB\n",
    "model = GaussianNB()\n",
    "\n",
    "# Model training\n",
    "model.fit(X_train, y_train)\n",
    "\n",
    "# Predict Output\n",
    "predicted = model.predict(X_test)\n",
    "print(predicted)"
   ],
   "metadata": {
    "collapsed": false,
    "ExecuteTime": {
     "end_time": "2023-12-10T14:33:54.095766300Z",
     "start_time": "2023-12-10T14:33:53.952620100Z"
    }
   },
   "id": "8916921a13363241"
  },
  {
   "cell_type": "markdown",
   "source": [
    "### Valutazione del modello"
   ],
   "metadata": {
    "collapsed": false
   },
   "id": "39e2e58627edb2a0"
  },
  {
   "cell_type": "markdown",
   "source": [],
   "metadata": {
    "collapsed": false
   },
   "id": "b224e09f5d09c843"
  },
  {
   "cell_type": "code",
   "execution_count": 23,
   "outputs": [
    {
     "data": {
      "text/plain": "<Figure size 1200x1200 with 2 Axes>",
      "image/png": "[encoded data removed]"
     },
     "metadata": {},
     "output_type": "display_data"
    }
   ],
   "source": [
    "from sklearn.metrics import confusion_matrix \n",
    "# Visualizing the Confusion Matrix\n",
    "LABELS = ['Normal', 'Fraud']\n",
    "confusion = confusion_matrix(y_test, predicted)\n",
    "plt.figure(figsize=(12, 12))\n",
    "sns.heatmap(confusion, xticklabels=LABELS, yticklabels=LABELS, annot=True, fmt='d');\n",
    "plt.title('Confusion Matrix')\n",
    "plt.ylabel('True class')\n",
    "plt.xlabel('Predicted class')\n",
    "plt.show()"
   ],
   "metadata": {
    "collapsed": false,
    "ExecuteTime": {
     "end_time": "2023-12-10T14:33:57.938415900Z",
     "start_time": "2023-12-10T14:33:57.784517300Z"
    }
   },
   "id": "84a7629a3f50843f"
  },
  {
   "cell_type": "markdown",
   "source": [
    "La Matrice di Confusione mostra i seguenti dati:\n",
    "- Numero di TN = 56502\n",
    "- Numero di FP = 362\n",
    "- Numero di FN = 36\n",
    "- Numero di TP = 62\n",
    "A questo punto, posso calcolare le varie metriche quali: **accuracy**, **precision**, **recall**, **F1** e **MCC**."
   ],
   "metadata": {
    "collapsed": false
   },
   "id": "569016ea8647e4b0"
  },
  {
   "cell_type": "code",
   "execution_count": 24,
   "outputs": [
    {
     "name": "stdout",
     "output_type": "stream",
     "text": [
      "Model used: Gaussian Naive Bayes\n",
      "The accuracy is 0.9930128857835048\n",
      "The precision is 0.14622641509433962\n",
      "The recall is 0.6326530612244898\n",
      "The f1 is 0.2375478927203065\n",
      "The Matthews correlation coefficient is 0.3019617859258202\n"
     ]
    }
   ],
   "source": [
    "# Classifier Evaluation\n",
    "from sklearn.metrics import classification_report, accuracy_score  \n",
    "from sklearn.metrics import precision_score, recall_score \n",
    "from sklearn.metrics import f1_score, matthews_corrcoef \n",
    "\n",
    "print(\"Model used: Gaussian Naive Bayes\")\n",
    "n_outliers = len(fraud) \n",
    "n_errors = (predicted != y_test).sum()\n",
    "\n",
    "accuracy = accuracy_score(y_test, predicted)\n",
    "print(\"The accuracy is {}\".format(accuracy))\n",
    "\n",
    "precision = precision_score(y_test, predicted)\n",
    "print(\"The precision is {}\".format(precision))\n",
    "\n",
    "recall = recall_score(y_test, predicted)\n",
    "print(\"The recall is {}\".format(recall))\n",
    "\n",
    "f1 = f1_score(y_test, predicted)\n",
    "print(\"The f1 is {}\".format(f1))\n",
    "\n",
    "MCC = matthews_corrcoef(y_test, predicted)\n",
    "print(\"The Matthews correlation coefficient is {}\".format(MCC))"
   ],
   "metadata": {
    "collapsed": false,
    "ExecuteTime": {
     "end_time": "2023-12-10T14:34:00.241855500Z",
     "start_time": "2023-12-10T14:34:00.192947Z"
    }
   },
   "id": "92689d723ada5d39"
  },
  {
   "cell_type": "markdown",
   "source": [
    "Come mostrato dalla metrica *precision*, solo il 14.6% delle predizioni positive risulta essere effettivamente positiva, mentre le restanti predizioni positive sono dei *False Positives*.\n",
    "Come mostra *recall*, il 63,2% delle istanze positive è stato rilevato correttamente.\n",
    "F1 e MCC, inoltre, risultano essere piuttosto bassi.\n"
   ],
   "metadata": {
    "collapsed": false
   },
   "id": "e54bc2593a8b6e18"
  },
  {
   "cell_type": "markdown",
   "source": [
    "## Implementazione e valutazione del classificatore Decision Tree\n",
    "---\n",
    "Costruzione del modello"
   ],
   "metadata": {
    "collapsed": false
   },
   "id": "534380a7962a4107"
  },
  {
   "cell_type": "code",
   "execution_count": null,
   "outputs": [],
   "source": [],
   "metadata": {
    "collapsed": false
   },
   "id": "bf20eeabc657c0fd"
  }
 ],
 "metadata": {
  "kernelspec": {
   "display_name": "Python 3",
   "language": "python",
   "name": "python3"
  },
  "language_info": {
   "codemirror_mode": {
    "name": "ipython",
    "version": 2
   },
   "file_extension": ".py",
   "mimetype": "text/x-python",
   "name": "python",
   "nbconvert_exporter": "python",
   "pygments_lexer": "ipython2",
   "version": "2.7.6"
  }
 },
 "nbformat": 4,
 "nbformat_minor": 5
}
