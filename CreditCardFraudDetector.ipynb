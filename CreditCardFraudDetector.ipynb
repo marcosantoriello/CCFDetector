{
 "cells": [
  {
   "cell_type": "markdown",
   "source": [
    "# CCFDetector: Using ML against Credit Card Frauds"
   ],
   "metadata": {
    "collapsed": false
   },
   "id": "5fc81a036995f96d"
  },
  {
   "cell_type": "markdown",
   "source": [
    "L'obiettivo di questo progetto, realizzato per l'esame di Fondamenti di Intelligenza Artificiale presso l'Univeristà degli Studi di Salerno, è quello di realizzare un sistema di Machine Learning per l'individuazione di transazioni fraudolente relative ai pagamenti elettronici, cioè tutte quelle transazioni effettuate da carte di credito senza l'autorizzazione dei possessori .\n",
    "## Setup del progetto e Data Understanding\n",
    "---\n",
    "### Inizio ad importare le librerie necessarie"
   ],
   "metadata": {
    "collapsed": false
   },
   "id": "7e85cea1cb42bbab"
  },
  {
   "cell_type": "code",
   "execution_count": 17,
   "outputs": [],
   "source": [
    "# import the necessary packages \n",
    "import numpy as np \n",
    "import pandas as pd \n",
    "import matplotlib.pyplot as plt \n",
    "import seaborn as sns \n",
    "from matplotlib import gridspec"
   ],
   "metadata": {
    "collapsed": false,
    "ExecuteTime": {
     "end_time": "2024-01-05T18:47:01.712038900Z",
     "start_time": "2024-01-05T18:47:01.705993600Z"
    }
   },
   "id": "795fea0d05d9790"
  },
  {
   "cell_type": "markdown",
   "source": [
    "### Carico il dataset\n",
    "Il dataset contiene più di 20 milioni di righe, dunque, per motivi legati alla capacità dell'hardware, ne andrò a selezionare 300.000."
   ],
   "metadata": {
    "collapsed": false
   },
   "id": "8cbf2ab23c49666c"
  },
  {
   "cell_type": "code",
   "execution_count": 18,
   "outputs": [
    {
     "data": {
      "text/plain": "          User  Card  Year  Month  Day   Time    Amount            Use Chip  \\\n18199893  1470     0  2019      7   10  00:11    $59.18    Chip Transaction   \n9731325    822     1  2019      1   14  22:12   $280.91  Online Transaction   \n536687      41     3  2010      3   15  07:07  $-144.00   Swipe Transaction   \n13223840  1084     0  2015      9   20  14:58     $6.76    Chip Transaction   \n17070521  1384     0  2014     10   12  11:44     $9.17   Swipe Transaction   \n792843      55     3  2006      6   10  09:15     $1.36   Swipe Transaction   \n8966297    776     0  2007      2   25  22:31    $97.81   Swipe Transaction   \n895801      66     0  2007      8   21  13:02    $23.25   Swipe Transaction   \n22902727  1880     2  2010     12   31  01:06   $486.70   Swipe Transaction   \n5845532    490     5  2015     11   28  13:45    $92.67    Chip Transaction   \n\n                Merchant Name  Merchant City Merchant State      Zip   MCC  \\\n18199893 -6853385250336487907        Harwood             MD  20776.0  5813   \n9731325   4241336128694185533         ONLINE            NaN      NaN  4814   \n536687     190253443608377572          Hemet             CA  92543.0  3359   \n13223840 -7837310524365334241      Littleton             CO  80122.0  5300   \n17070521 -5023497618971072366        Gardner             KS  66030.0  5812   \n792843   -6571010470072147219      Rego Park             NY  11374.0  5499   \n8966297  -6974082828836151610      Milwaukee             WI  53224.0  4900   \n895801    3675785629314646441       Gonzales             TX  78629.0  7349   \n22902727 -3398248499422470718  Atlantic City             NJ   8401.0  7995   \n5845532   4722913068560264812  Pompano Beach             FL  33063.0  5411   \n\n         Errors? Is Fraud?  \n18199893     NaN        No  \n9731325      NaN        No  \n536687       NaN        No  \n13223840     NaN        No  \n17070521     NaN        No  \n792843       NaN        No  \n8966297      NaN        No  \n895801       NaN        No  \n22902727     NaN        No  \n5845532      NaN        No  ",
      "text/html": "<div>\n<style scoped>\n    .dataframe tbody tr th:only-of-type {\n        vertical-align: middle;\n    }\n\n    .dataframe tbody tr th {\n        vertical-align: top;\n    }\n\n    .dataframe thead th {\n        text-align: right;\n    }\n</style>\n<table border=\"1\" class=\"dataframe\">\n  <thead>\n    <tr style=\"text-align: right;\">\n      <th></th>\n      <th>User</th>\n      <th>Card</th>\n      <th>Year</th>\n      <th>Month</th>\n      <th>Day</th>\n      <th>Time</th>\n      <th>Amount</th>\n      <th>Use Chip</th>\n      <th>Merchant Name</th>\n      <th>Merchant City</th>\n      <th>Merchant State</th>\n      <th>Zip</th>\n      <th>MCC</th>\n      <th>Errors?</th>\n      <th>Is Fraud?</th>\n    </tr>\n  </thead>\n  <tbody>\n    <tr>\n      <th>18199893</th>\n      <td>1470</td>\n      <td>0</td>\n      <td>2019</td>\n      <td>7</td>\n      <td>10</td>\n      <td>00:11</td>\n      <td>$59.18</td>\n      <td>Chip Transaction</td>\n      <td>-6853385250336487907</td>\n      <td>Harwood</td>\n      <td>MD</td>\n      <td>20776.0</td>\n      <td>5813</td>\n      <td>NaN</td>\n      <td>No</td>\n    </tr>\n    <tr>\n      <th>9731325</th>\n      <td>822</td>\n      <td>1</td>\n      <td>2019</td>\n      <td>1</td>\n      <td>14</td>\n      <td>22:12</td>\n      <td>$280.91</td>\n      <td>Online Transaction</td>\n      <td>4241336128694185533</td>\n      <td>ONLINE</td>\n      <td>NaN</td>\n      <td>NaN</td>\n      <td>4814</td>\n      <td>NaN</td>\n      <td>No</td>\n    </tr>\n    <tr>\n      <th>536687</th>\n      <td>41</td>\n      <td>3</td>\n      <td>2010</td>\n      <td>3</td>\n      <td>15</td>\n      <td>07:07</td>\n      <td>$-144.00</td>\n      <td>Swipe Transaction</td>\n      <td>190253443608377572</td>\n      <td>Hemet</td>\n      <td>CA</td>\n      <td>92543.0</td>\n      <td>3359</td>\n      <td>NaN</td>\n      <td>No</td>\n    </tr>\n    <tr>\n      <th>13223840</th>\n      <td>1084</td>\n      <td>0</td>\n      <td>2015</td>\n      <td>9</td>\n      <td>20</td>\n      <td>14:58</td>\n      <td>$6.76</td>\n      <td>Chip Transaction</td>\n      <td>-7837310524365334241</td>\n      <td>Littleton</td>\n      <td>CO</td>\n      <td>80122.0</td>\n      <td>5300</td>\n      <td>NaN</td>\n      <td>No</td>\n    </tr>\n    <tr>\n      <th>17070521</th>\n      <td>1384</td>\n      <td>0</td>\n      <td>2014</td>\n      <td>10</td>\n      <td>12</td>\n      <td>11:44</td>\n      <td>$9.17</td>\n      <td>Swipe Transaction</td>\n      <td>-5023497618971072366</td>\n      <td>Gardner</td>\n      <td>KS</td>\n      <td>66030.0</td>\n      <td>5812</td>\n      <td>NaN</td>\n      <td>No</td>\n    </tr>\n    <tr>\n      <th>792843</th>\n      <td>55</td>\n      <td>3</td>\n      <td>2006</td>\n      <td>6</td>\n      <td>10</td>\n      <td>09:15</td>\n      <td>$1.36</td>\n      <td>Swipe Transaction</td>\n      <td>-6571010470072147219</td>\n      <td>Rego Park</td>\n      <td>NY</td>\n      <td>11374.0</td>\n      <td>5499</td>\n      <td>NaN</td>\n      <td>No</td>\n    </tr>\n    <tr>\n      <th>8966297</th>\n      <td>776</td>\n      <td>0</td>\n      <td>2007</td>\n      <td>2</td>\n      <td>25</td>\n      <td>22:31</td>\n      <td>$97.81</td>\n      <td>Swipe Transaction</td>\n      <td>-6974082828836151610</td>\n      <td>Milwaukee</td>\n      <td>WI</td>\n      <td>53224.0</td>\n      <td>4900</td>\n      <td>NaN</td>\n      <td>No</td>\n    </tr>\n    <tr>\n      <th>895801</th>\n      <td>66</td>\n      <td>0</td>\n      <td>2007</td>\n      <td>8</td>\n      <td>21</td>\n      <td>13:02</td>\n      <td>$23.25</td>\n      <td>Swipe Transaction</td>\n      <td>3675785629314646441</td>\n      <td>Gonzales</td>\n      <td>TX</td>\n      <td>78629.0</td>\n      <td>7349</td>\n      <td>NaN</td>\n      <td>No</td>\n    </tr>\n    <tr>\n      <th>22902727</th>\n      <td>1880</td>\n      <td>2</td>\n      <td>2010</td>\n      <td>12</td>\n      <td>31</td>\n      <td>01:06</td>\n      <td>$486.70</td>\n      <td>Swipe Transaction</td>\n      <td>-3398248499422470718</td>\n      <td>Atlantic City</td>\n      <td>NJ</td>\n      <td>8401.0</td>\n      <td>7995</td>\n      <td>NaN</td>\n      <td>No</td>\n    </tr>\n    <tr>\n      <th>5845532</th>\n      <td>490</td>\n      <td>5</td>\n      <td>2015</td>\n      <td>11</td>\n      <td>28</td>\n      <td>13:45</td>\n      <td>$92.67</td>\n      <td>Chip Transaction</td>\n      <td>4722913068560264812</td>\n      <td>Pompano Beach</td>\n      <td>FL</td>\n      <td>33063.0</td>\n      <td>5411</td>\n      <td>NaN</td>\n      <td>No</td>\n    </tr>\n  </tbody>\n</table>\n</div>"
     },
     "execution_count": 18,
     "metadata": {},
     "output_type": "execute_result"
    }
   ],
   "source": [
    "df = pd.read_csv('credit_card_transactions-ibm_v2.csv').sample(n=300000, random_state=42)\n",
    "df.head(10)"
   ],
   "metadata": {
    "collapsed": false,
    "ExecuteTime": {
     "end_time": "2024-01-05T18:47:36.004294900Z",
     "start_time": "2024-01-05T18:47:02.084264Z"
    }
   },
   "id": "9d5ed1dbd9ae7b06"
  },
  {
   "cell_type": "markdown",
   "source": [
    "### Descrizione del dataset\n"
   ],
   "metadata": {
    "collapsed": false
   },
   "id": "722e9565b0707b96"
  },
  {
   "cell_type": "code",
   "execution_count": 19,
   "outputs": [
    {
     "name": "stdout",
     "output_type": "stream",
     "text": [
      "<class 'pandas.core.frame.DataFrame'>\n",
      "Index: 300000 entries, 18199893 to 18106096\n",
      "Data columns (total 15 columns):\n",
      " #   Column          Non-Null Count   Dtype  \n",
      "---  ------          --------------   -----  \n",
      " 0   User            300000 non-null  int64  \n",
      " 1   Card            300000 non-null  int64  \n",
      " 2   Year            300000 non-null  int64  \n",
      " 3   Month           300000 non-null  int64  \n",
      " 4   Day             300000 non-null  int64  \n",
      " 5   Time            300000 non-null  object \n",
      " 6   Amount          300000 non-null  object \n",
      " 7   Use Chip        300000 non-null  object \n",
      " 8   Merchant Name   300000 non-null  int64  \n",
      " 9   Merchant City   300000 non-null  object \n",
      " 10  Merchant State  266377 non-null  object \n",
      " 11  Zip             264443 non-null  float64\n",
      " 12  MCC             300000 non-null  int64  \n",
      " 13  Errors?         4778 non-null    object \n",
      " 14  Is Fraud?       300000 non-null  object \n",
      "dtypes: float64(1), int64(7), object(7)\n",
      "memory usage: 36.6+ MB\n"
     ]
    }
   ],
   "source": [
    "df.info()"
   ],
   "metadata": {
    "collapsed": false,
    "ExecuteTime": {
     "end_time": "2024-01-05T18:47:36.258210600Z",
     "start_time": "2024-01-05T18:47:36.016296200Z"
    }
   },
   "id": "83ee31dd1354b31b"
  },
  {
   "cell_type": "markdown",
   "source": [
    "La variabile target, dunque quella che il modello dovrà predire, è rappresentata dalla colonna **Is Fraud?**, contenente valori non interi. Per questioni di praticità, vado a creare una nuova colonna chiamata **Fraud**, nella quale mapperò i valori della colonna originale che hanno valore 'Yes' a 1 e quelli che hanno valore 'No' a 0. Infine, rimuovo la colonna originale."
   ],
   "metadata": {
    "collapsed": false
   },
   "id": "3cd22fcd69ac425c"
  },
  {
   "cell_type": "code",
   "execution_count": 20,
   "outputs": [
    {
     "data": {
      "text/plain": "          User  Card  Year  Month  Day   Time    Amount            Use Chip  \\\n18199893  1470     0  2019      7   10  00:11    $59.18    Chip Transaction   \n9731325    822     1  2019      1   14  22:12   $280.91  Online Transaction   \n536687      41     3  2010      3   15  07:07  $-144.00   Swipe Transaction   \n13223840  1084     0  2015      9   20  14:58     $6.76    Chip Transaction   \n17070521  1384     0  2014     10   12  11:44     $9.17   Swipe Transaction   \n792843      55     3  2006      6   10  09:15     $1.36   Swipe Transaction   \n8966297    776     0  2007      2   25  22:31    $97.81   Swipe Transaction   \n895801      66     0  2007      8   21  13:02    $23.25   Swipe Transaction   \n22902727  1880     2  2010     12   31  01:06   $486.70   Swipe Transaction   \n5845532    490     5  2015     11   28  13:45    $92.67    Chip Transaction   \n\n                Merchant Name  Merchant City Merchant State      Zip   MCC  \\\n18199893 -6853385250336487907        Harwood             MD  20776.0  5813   \n9731325   4241336128694185533         ONLINE            NaN      NaN  4814   \n536687     190253443608377572          Hemet             CA  92543.0  3359   \n13223840 -7837310524365334241      Littleton             CO  80122.0  5300   \n17070521 -5023497618971072366        Gardner             KS  66030.0  5812   \n792843   -6571010470072147219      Rego Park             NY  11374.0  5499   \n8966297  -6974082828836151610      Milwaukee             WI  53224.0  4900   \n895801    3675785629314646441       Gonzales             TX  78629.0  7349   \n22902727 -3398248499422470718  Atlantic City             NJ   8401.0  7995   \n5845532   4722913068560264812  Pompano Beach             FL  33063.0  5411   \n\n         Errors?  Fraud  \n18199893     NaN      0  \n9731325      NaN      0  \n536687       NaN      0  \n13223840     NaN      0  \n17070521     NaN      0  \n792843       NaN      0  \n8966297      NaN      0  \n895801       NaN      0  \n22902727     NaN      0  \n5845532      NaN      0  ",
      "text/html": "<div>\n<style scoped>\n    .dataframe tbody tr th:only-of-type {\n        vertical-align: middle;\n    }\n\n    .dataframe tbody tr th {\n        vertical-align: top;\n    }\n\n    .dataframe thead th {\n        text-align: right;\n    }\n</style>\n<table border=\"1\" class=\"dataframe\">\n  <thead>\n    <tr style=\"text-align: right;\">\n      <th></th>\n      <th>User</th>\n      <th>Card</th>\n      <th>Year</th>\n      <th>Month</th>\n      <th>Day</th>\n      <th>Time</th>\n      <th>Amount</th>\n      <th>Use Chip</th>\n      <th>Merchant Name</th>\n      <th>Merchant City</th>\n      <th>Merchant State</th>\n      <th>Zip</th>\n      <th>MCC</th>\n      <th>Errors?</th>\n      <th>Fraud</th>\n    </tr>\n  </thead>\n  <tbody>\n    <tr>\n      <th>18199893</th>\n      <td>1470</td>\n      <td>0</td>\n      <td>2019</td>\n      <td>7</td>\n      <td>10</td>\n      <td>00:11</td>\n      <td>$59.18</td>\n      <td>Chip Transaction</td>\n      <td>-6853385250336487907</td>\n      <td>Harwood</td>\n      <td>MD</td>\n      <td>20776.0</td>\n      <td>5813</td>\n      <td>NaN</td>\n      <td>0</td>\n    </tr>\n    <tr>\n      <th>9731325</th>\n      <td>822</td>\n      <td>1</td>\n      <td>2019</td>\n      <td>1</td>\n      <td>14</td>\n      <td>22:12</td>\n      <td>$280.91</td>\n      <td>Online Transaction</td>\n      <td>4241336128694185533</td>\n      <td>ONLINE</td>\n      <td>NaN</td>\n      <td>NaN</td>\n      <td>4814</td>\n      <td>NaN</td>\n      <td>0</td>\n    </tr>\n    <tr>\n      <th>536687</th>\n      <td>41</td>\n      <td>3</td>\n      <td>2010</td>\n      <td>3</td>\n      <td>15</td>\n      <td>07:07</td>\n      <td>$-144.00</td>\n      <td>Swipe Transaction</td>\n      <td>190253443608377572</td>\n      <td>Hemet</td>\n      <td>CA</td>\n      <td>92543.0</td>\n      <td>3359</td>\n      <td>NaN</td>\n      <td>0</td>\n    </tr>\n    <tr>\n      <th>13223840</th>\n      <td>1084</td>\n      <td>0</td>\n      <td>2015</td>\n      <td>9</td>\n      <td>20</td>\n      <td>14:58</td>\n      <td>$6.76</td>\n      <td>Chip Transaction</td>\n      <td>-7837310524365334241</td>\n      <td>Littleton</td>\n      <td>CO</td>\n      <td>80122.0</td>\n      <td>5300</td>\n      <td>NaN</td>\n      <td>0</td>\n    </tr>\n    <tr>\n      <th>17070521</th>\n      <td>1384</td>\n      <td>0</td>\n      <td>2014</td>\n      <td>10</td>\n      <td>12</td>\n      <td>11:44</td>\n      <td>$9.17</td>\n      <td>Swipe Transaction</td>\n      <td>-5023497618971072366</td>\n      <td>Gardner</td>\n      <td>KS</td>\n      <td>66030.0</td>\n      <td>5812</td>\n      <td>NaN</td>\n      <td>0</td>\n    </tr>\n    <tr>\n      <th>792843</th>\n      <td>55</td>\n      <td>3</td>\n      <td>2006</td>\n      <td>6</td>\n      <td>10</td>\n      <td>09:15</td>\n      <td>$1.36</td>\n      <td>Swipe Transaction</td>\n      <td>-6571010470072147219</td>\n      <td>Rego Park</td>\n      <td>NY</td>\n      <td>11374.0</td>\n      <td>5499</td>\n      <td>NaN</td>\n      <td>0</td>\n    </tr>\n    <tr>\n      <th>8966297</th>\n      <td>776</td>\n      <td>0</td>\n      <td>2007</td>\n      <td>2</td>\n      <td>25</td>\n      <td>22:31</td>\n      <td>$97.81</td>\n      <td>Swipe Transaction</td>\n      <td>-6974082828836151610</td>\n      <td>Milwaukee</td>\n      <td>WI</td>\n      <td>53224.0</td>\n      <td>4900</td>\n      <td>NaN</td>\n      <td>0</td>\n    </tr>\n    <tr>\n      <th>895801</th>\n      <td>66</td>\n      <td>0</td>\n      <td>2007</td>\n      <td>8</td>\n      <td>21</td>\n      <td>13:02</td>\n      <td>$23.25</td>\n      <td>Swipe Transaction</td>\n      <td>3675785629314646441</td>\n      <td>Gonzales</td>\n      <td>TX</td>\n      <td>78629.0</td>\n      <td>7349</td>\n      <td>NaN</td>\n      <td>0</td>\n    </tr>\n    <tr>\n      <th>22902727</th>\n      <td>1880</td>\n      <td>2</td>\n      <td>2010</td>\n      <td>12</td>\n      <td>31</td>\n      <td>01:06</td>\n      <td>$486.70</td>\n      <td>Swipe Transaction</td>\n      <td>-3398248499422470718</td>\n      <td>Atlantic City</td>\n      <td>NJ</td>\n      <td>8401.0</td>\n      <td>7995</td>\n      <td>NaN</td>\n      <td>0</td>\n    </tr>\n    <tr>\n      <th>5845532</th>\n      <td>490</td>\n      <td>5</td>\n      <td>2015</td>\n      <td>11</td>\n      <td>28</td>\n      <td>13:45</td>\n      <td>$92.67</td>\n      <td>Chip Transaction</td>\n      <td>4722913068560264812</td>\n      <td>Pompano Beach</td>\n      <td>FL</td>\n      <td>33063.0</td>\n      <td>5411</td>\n      <td>NaN</td>\n      <td>0</td>\n    </tr>\n  </tbody>\n</table>\n</div>"
     },
     "execution_count": 20,
     "metadata": {},
     "output_type": "execute_result"
    }
   ],
   "source": [
    "# Creo una nuova colonna 'Fraud' e le assegno i valori di 'Is Fraud?' convertiti in 0 e 1\n",
    "df['Fraud'] = df['Is Fraud?'].map({'Yes': 1, 'No': 0})\n",
    "\n",
    "# Elimina la colonna 'Is Fraud?'\n",
    "df = df.drop('Is Fraud?', axis=1)\n",
    "df.head(10)"
   ],
   "metadata": {
    "collapsed": false,
    "ExecuteTime": {
     "end_time": "2024-01-05T18:47:36.413603Z",
     "start_time": "2024-01-05T18:47:36.260211400Z"
    }
   },
   "id": "a6ff2bde6bd9c895"
  },
  {
   "cell_type": "markdown",
   "source": [
    "\n"
   ],
   "metadata": {
    "collapsed": false
   },
   "id": "4794cce816c5bf76"
  }
 ],
 "metadata": {
  "kernelspec": {
   "display_name": "Python 3",
   "language": "python",
   "name": "python3"
  },
  "language_info": {
   "codemirror_mode": {
    "name": "ipython",
    "version": 2
   },
   "file_extension": ".py",
   "mimetype": "text/x-python",
   "name": "python",
   "nbconvert_exporter": "python",
   "pygments_lexer": "ipython2",
   "version": "2.7.6"
  }
 },
 "nbformat": 4,
 "nbformat_minor": 5
}
